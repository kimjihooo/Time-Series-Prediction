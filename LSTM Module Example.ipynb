{
 "cells": [
  {
   "cell_type": "code",
   "execution_count": 1,
   "metadata": {},
   "outputs": [],
   "source": [
    "import pandas as pd\n",
    "import numpy as np\n",
    "\n",
    "import FinanceDataReader as fdr\n",
    "\n",
    "import tensorflow as tf\n",
    "from tensorflow import keras\n",
    "\n",
    "import PredictLSTM "
   ]
  },
  {
   "cell_type": "code",
   "execution_count": 2,
   "metadata": {},
   "outputs": [
    {
     "data": {
      "text/html": [
       "<div>\n",
       "<style scoped>\n",
       "    .dataframe tbody tr th:only-of-type {\n",
       "        vertical-align: middle;\n",
       "    }\n",
       "\n",
       "    .dataframe tbody tr th {\n",
       "        vertical-align: top;\n",
       "    }\n",
       "\n",
       "    .dataframe thead th {\n",
       "        text-align: right;\n",
       "    }\n",
       "</style>\n",
       "<table border=\"1\" class=\"dataframe\">\n",
       "  <thead>\n",
       "    <tr style=\"text-align: right;\">\n",
       "      <th></th>\n",
       "      <th>Open</th>\n",
       "      <th>High</th>\n",
       "      <th>Low</th>\n",
       "      <th>Close</th>\n",
       "      <th>Volume</th>\n",
       "      <th>Change</th>\n",
       "    </tr>\n",
       "    <tr>\n",
       "      <th>Date</th>\n",
       "      <th></th>\n",
       "      <th></th>\n",
       "      <th></th>\n",
       "      <th></th>\n",
       "      <th></th>\n",
       "      <th></th>\n",
       "    </tr>\n",
       "  </thead>\n",
       "  <tbody>\n",
       "    <tr>\n",
       "      <th>2018-01-02</th>\n",
       "      <td>51380</td>\n",
       "      <td>51400</td>\n",
       "      <td>50780</td>\n",
       "      <td>51020</td>\n",
       "      <td>169485</td>\n",
       "      <td>0.001177</td>\n",
       "    </tr>\n",
       "    <tr>\n",
       "      <th>2018-01-03</th>\n",
       "      <td>52540</td>\n",
       "      <td>52560</td>\n",
       "      <td>51420</td>\n",
       "      <td>51620</td>\n",
       "      <td>200270</td>\n",
       "      <td>0.011760</td>\n",
       "    </tr>\n",
       "    <tr>\n",
       "      <th>2018-01-04</th>\n",
       "      <td>52120</td>\n",
       "      <td>52180</td>\n",
       "      <td>50640</td>\n",
       "      <td>51080</td>\n",
       "      <td>233909</td>\n",
       "      <td>-0.010461</td>\n",
       "    </tr>\n",
       "    <tr>\n",
       "      <th>2018-01-05</th>\n",
       "      <td>51300</td>\n",
       "      <td>52120</td>\n",
       "      <td>51200</td>\n",
       "      <td>52120</td>\n",
       "      <td>189623</td>\n",
       "      <td>0.020360</td>\n",
       "    </tr>\n",
       "    <tr>\n",
       "      <th>2018-01-08</th>\n",
       "      <td>52400</td>\n",
       "      <td>52520</td>\n",
       "      <td>51500</td>\n",
       "      <td>52020</td>\n",
       "      <td>167673</td>\n",
       "      <td>-0.001919</td>\n",
       "    </tr>\n",
       "    <tr>\n",
       "      <th>...</th>\n",
       "      <td>...</td>\n",
       "      <td>...</td>\n",
       "      <td>...</td>\n",
       "      <td>...</td>\n",
       "      <td>...</td>\n",
       "      <td>...</td>\n",
       "    </tr>\n",
       "    <tr>\n",
       "      <th>2022-12-23</th>\n",
       "      <td>58200</td>\n",
       "      <td>58400</td>\n",
       "      <td>57700</td>\n",
       "      <td>58100</td>\n",
       "      <td>9829407</td>\n",
       "      <td>-0.016920</td>\n",
       "    </tr>\n",
       "    <tr>\n",
       "      <th>2022-12-26</th>\n",
       "      <td>58000</td>\n",
       "      <td>58100</td>\n",
       "      <td>57700</td>\n",
       "      <td>57900</td>\n",
       "      <td>6756411</td>\n",
       "      <td>-0.003442</td>\n",
       "    </tr>\n",
       "    <tr>\n",
       "      <th>2022-12-27</th>\n",
       "      <td>58000</td>\n",
       "      <td>58400</td>\n",
       "      <td>57900</td>\n",
       "      <td>58100</td>\n",
       "      <td>10667027</td>\n",
       "      <td>0.003454</td>\n",
       "    </tr>\n",
       "    <tr>\n",
       "      <th>2022-12-28</th>\n",
       "      <td>57600</td>\n",
       "      <td>57600</td>\n",
       "      <td>56400</td>\n",
       "      <td>56600</td>\n",
       "      <td>14665410</td>\n",
       "      <td>-0.025818</td>\n",
       "    </tr>\n",
       "    <tr>\n",
       "      <th>2022-12-29</th>\n",
       "      <td>56000</td>\n",
       "      <td>56200</td>\n",
       "      <td>55300</td>\n",
       "      <td>55300</td>\n",
       "      <td>11295935</td>\n",
       "      <td>-0.022968</td>\n",
       "    </tr>\n",
       "  </tbody>\n",
       "</table>\n",
       "<p>1232 rows × 6 columns</p>\n",
       "</div>"
      ],
      "text/plain": [
       "             Open   High    Low  Close    Volume    Change\n",
       "Date                                                      \n",
       "2018-01-02  51380  51400  50780  51020    169485  0.001177\n",
       "2018-01-03  52540  52560  51420  51620    200270  0.011760\n",
       "2018-01-04  52120  52180  50640  51080    233909 -0.010461\n",
       "2018-01-05  51300  52120  51200  52120    189623  0.020360\n",
       "2018-01-08  52400  52520  51500  52020    167673 -0.001919\n",
       "...           ...    ...    ...    ...       ...       ...\n",
       "2022-12-23  58200  58400  57700  58100   9829407 -0.016920\n",
       "2022-12-26  58000  58100  57700  57900   6756411 -0.003442\n",
       "2022-12-27  58000  58400  57900  58100  10667027  0.003454\n",
       "2022-12-28  57600  57600  56400  56600  14665410 -0.025818\n",
       "2022-12-29  56000  56200  55300  55300  11295935 -0.022968\n",
       "\n",
       "[1232 rows x 6 columns]"
      ]
     },
     "execution_count": 2,
     "metadata": {},
     "output_type": "execute_result"
    }
   ],
   "source": [
    "# Stock Price\n",
    "# Train Dataset\n",
    "df = fdr.DataReader('005930','2018-01-01', '2022-12-31')\n",
    "df"
   ]
  },
  {
   "cell_type": "code",
   "execution_count": 3,
   "metadata": {},
   "outputs": [],
   "source": [
    "df = df.drop([\"Volume\", \"Change\"], axis = 1)\n",
    "df = df.rename(columns={\"Close\":\"y\"})\n"
   ]
  },
  {
   "cell_type": "code",
   "execution_count": 4,
   "metadata": {},
   "outputs": [
    {
     "data": {
      "text/plain": [
       "(192, 4)"
      ]
     },
     "execution_count": 4,
     "metadata": {},
     "output_type": "execute_result"
    }
   ],
   "source": [
    "# Test Dataset\n",
    "test_df = fdr.DataReader('005930','2023')\n",
    "test_df = test_df.drop([\"Volume\", \"Change\"], axis = 1)\n",
    "test_df = test_df.rename(columns={\"Close\":\"y\"})\n",
    "test_df.shape"
   ]
  },
  {
   "cell_type": "code",
   "execution_count": 5,
   "metadata": {},
   "outputs": [],
   "source": [
    "train_lstm = PredictLSTM.Train_LSTM(33)\n",
    "test_lstm = PredictLSTM.Test_LSTM()"
   ]
  },
  {
   "cell_type": "code",
   "execution_count": 6,
   "metadata": {},
   "outputs": [],
   "source": [
    "seq_len = 5  \n",
    "steps = 1  \n",
    "metrics = \"mse\""
   ]
  },
  {
   "cell_type": "code",
   "execution_count": 7,
   "metadata": {},
   "outputs": [],
   "source": [
    "test_dataset = test_lstm.reshape_dataset(test_df)\n",
    "x_test , y_test = test_lstm.sequential_dataset(test_dataset, seq_len, steps)"
   ]
  },
  {
   "cell_type": "code",
   "execution_count": 8,
   "metadata": {},
   "outputs": [],
   "source": [
    "lstm_params = {\n",
    "    \"seq_len\": seq_len,\n",
    "    \"epochs\": 300, \n",
    "    \"patience\": 30,  \n",
    "    \"steps_per_epoch\": 5, \n",
    "    \"learning_rate\": 0.01,\n",
    "    \"lstm_units\": [64, 32], \n",
    "    \"activation\": \"relu\",\n",
    "    \"dropout\": 0,\n",
    "    \"validation_split\": 0.3, \n",
    "}"
   ]
  },
  {
   "cell_type": "code",
   "execution_count": 9,
   "metadata": {},
   "outputs": [
    {
     "name": "stdout",
     "output_type": "stream",
     "text": [
      "X_train: (858, 5, 3)\n",
      "y_train: (858, 1)\n",
      "X_val: (369, 5, 3)\n",
      "y_val: (369, 1)\n",
      "Epoch 1/300\n",
      "1/5 [=====>........................] - ETA: 10s - loss: 1444890240.0000 - mse: 1444890240.0000\n",
      "Epoch 1: val_loss improved from inf to 536414592.00000, saving model to checkpoint\\lstm_1014_check.h5\n",
      "5/5 [==============================] - 3s 123ms/step - loss: 1488852608.0000 - mse: 1488852608.0000 - val_loss: 536414592.0000 - val_mse: 536414592.0000 - lr: 0.0100\n",
      "Epoch 2/300\n",
      "1/5 [=====>........................] - ETA: 0s - loss: 302524544.0000 - mse: 302524544.0000\n",
      "Epoch 2: val_loss improved from 536414592.00000 to 263531936.00000, saving model to checkpoint\\lstm_1014_check.h5\n",
      "5/5 [==============================] - 0s 28ms/step - loss: 556915200.0000 - mse: 556915200.0000 - val_loss: 263531936.0000 - val_mse: 263531936.0000 - lr: 0.0100\n",
      "Epoch 3/300\n",
      "1/5 [=====>........................] - ETA: 0s - loss: 172652896.0000 - mse: 172652896.0000\n",
      "Epoch 3: val_loss did not improve from 263531936.00000\n",
      "5/5 [==============================] - 0s 22ms/step - loss: 698744576.0000 - mse: 698744576.0000 - val_loss: 690096896.0000 - val_mse: 690096896.0000 - lr: 0.0100\n",
      "Epoch 4/300\n",
      "1/5 [=====>........................] - ETA: 0s - loss: 367078400.0000 - mse: 367078400.0000\n",
      "Epoch 4: val_loss did not improve from 263531936.00000\n",
      "5/5 [==============================] - 0s 21ms/step - loss: 361421632.0000 - mse: 361421632.0000 - val_loss: 379895712.0000 - val_mse: 379895712.0000 - lr: 0.0100\n",
      "Epoch 5/300\n",
      "1/5 [=====>........................] - ETA: 0s - loss: 214435104.0000 - mse: 214435104.0000\n",
      "Epoch 5: val_loss improved from 263531936.00000 to 163248720.00000, saving model to checkpoint\\lstm_1014_check.h5\n",
      "5/5 [==============================] - 0s 29ms/step - loss: 91134288.0000 - mse: 91134288.0000 - val_loss: 163248720.0000 - val_mse: 163248720.0000 - lr: 0.0100\n",
      "Epoch 6/300\n",
      "1/5 [=====>........................] - ETA: 0s - loss: 98284552.0000 - mse: 98284552.0000\n",
      "Epoch 6: val_loss improved from 163248720.00000 to 23150158.00000, saving model to checkpoint\\lstm_1014_check.h5\n",
      "5/5 [==============================] - 0s 29ms/step - loss: 41226136.0000 - mse: 41226136.0000 - val_loss: 23150158.0000 - val_mse: 23150158.0000 - lr: 0.0100\n",
      "Epoch 7/300\n",
      "1/5 [=====>........................] - ETA: 0s - loss: 35480036.0000 - mse: 35480036.0000\n",
      "Epoch 7: val_loss did not improve from 23150158.00000\n",
      "5/5 [==============================] - 0s 31ms/step - loss: 26716926.0000 - mse: 26716926.0000 - val_loss: 267789760.0000 - val_mse: 267789760.0000 - lr: 0.0100\n",
      "Epoch 8/300\n",
      "1/5 [=====>........................] - ETA: 0s - loss: 141458880.0000 - mse: 141458880.0000\n",
      "Epoch 8: val_loss did not improve from 23150158.00000\n",
      "5/5 [==============================] - 0s 23ms/step - loss: 66017808.0000 - mse: 66017816.0000 - val_loss: 148526048.0000 - val_mse: 148526048.0000 - lr: 0.0100\n",
      "Epoch 9/300\n",
      "1/5 [=====>........................] - ETA: 0s - loss: 111420496.0000 - mse: 111420496.0000\n",
      "Epoch 9: val_loss did not improve from 23150158.00000\n",
      "5/5 [==============================] - 0s 25ms/step - loss: 119683984.0000 - mse: 119683976.0000 - val_loss: 95453536.0000 - val_mse: 95453536.0000 - lr: 0.0100\n",
      "Epoch 10/300\n",
      "5/5 [==============================] - ETA: 0s - loss: 387089440.0000 - mse: 387089440.0000\n",
      "Epoch 10: val_loss did not improve from 23150158.00000\n",
      "5/5 [==============================] - 0s 28ms/step - loss: 387089440.0000 - mse: 387089440.0000 - val_loss: 601910976.0000 - val_mse: 601910976.0000 - lr: 0.0100\n",
      "Epoch 11/300\n",
      "1/5 [=====>........................] - ETA: 0s - loss: 333769216.0000 - mse: 333769216.0000\n",
      "Epoch 11: val_loss did not improve from 23150158.00000\n",
      "5/5 [==============================] - 0s 21ms/step - loss: 143560384.0000 - mse: 143560384.0000 - val_loss: 270453024.0000 - val_mse: 270453024.0000 - lr: 0.0100\n",
      "Epoch 12/300\n",
      "1/5 [=====>........................] - ETA: 0s - loss: 157069616.0000 - mse: 157069616.0000\n",
      "Epoch 12: val_loss improved from 23150158.00000 to 21080886.00000, saving model to checkpoint\\lstm_1014_check.h5\n",
      "5/5 [==============================] - 0s 29ms/step - loss: 76202968.0000 - mse: 76202960.0000 - val_loss: 21080886.0000 - val_mse: 21080886.0000 - lr: 0.0100\n",
      "Epoch 13/300\n",
      "1/5 [=====>........................] - ETA: 0s - loss: 50098008.0000 - mse: 50098008.0000\n",
      "Epoch 13: val_loss did not improve from 21080886.00000\n",
      "5/5 [==============================] - 0s 22ms/step - loss: 88645280.0000 - mse: 88645280.0000 - val_loss: 27902738.0000 - val_mse: 27902738.0000 - lr: 0.0100\n",
      "Epoch 14/300\n",
      "1/5 [=====>........................] - ETA: 0s - loss: 55845232.0000 - mse: 55845232.0000\n",
      "Epoch 14: val_loss did not improve from 21080886.00000\n",
      "5/5 [==============================] - 0s 23ms/step - loss: 60366428.0000 - mse: 60366428.0000 - val_loss: 32793140.0000 - val_mse: 32793140.0000 - lr: 0.0100\n",
      "Epoch 15/300\n",
      "1/5 [=====>........................] - ETA: 0s - loss: 53334836.0000 - mse: 53334836.0000\n",
      "Epoch 15: val_loss did not improve from 21080886.00000\n",
      "5/5 [==============================] - 0s 26ms/step - loss: 25992582.0000 - mse: 25992582.0000 - val_loss: 24926638.0000 - val_mse: 24926638.0000 - lr: 0.0100\n",
      "Epoch 16/300\n",
      "1/5 [=====>........................] - ETA: 0s - loss: 45976408.0000 - mse: 45976408.0000\n",
      "Epoch 16: val_loss improved from 21080886.00000 to 3954871.25000, saving model to checkpoint\\lstm_1014_check.h5\n",
      "5/5 [==============================] - 0s 34ms/step - loss: 15777842.0000 - mse: 15777842.0000 - val_loss: 3954871.2500 - val_mse: 3954871.2500 - lr: 0.0100\n",
      "Epoch 17/300\n",
      "1/5 [=====>........................] - ETA: 0s - loss: 32698776.0000 - mse: 32698776.0000\n",
      "Epoch 17: val_loss did not improve from 3954871.25000\n",
      "5/5 [==============================] - 0s 23ms/step - loss: 15871422.0000 - mse: 15871422.0000 - val_loss: 11397035.0000 - val_mse: 11397035.0000 - lr: 0.0100\n",
      "Epoch 18/300\n",
      "1/5 [=====>........................] - ETA: 0s - loss: 35655368.0000 - mse: 35655368.0000\n",
      "Epoch 18: val_loss did not improve from 3954871.25000\n",
      "5/5 [==============================] - 0s 29ms/step - loss: 11496057.0000 - mse: 11496057.0000 - val_loss: 6051803.0000 - val_mse: 6051803.0000 - lr: 0.0100\n",
      "Epoch 19/300\n",
      "5/5 [==============================] - ETA: 0s - loss: 10301208.0000 - mse: 10301208.0000\n",
      "Epoch 19: val_loss improved from 3954871.25000 to 2973982.75000, saving model to checkpoint\\lstm_1014_check.h5\n",
      "5/5 [==============================] - 0s 35ms/step - loss: 10301208.0000 - mse: 10301208.0000 - val_loss: 2973982.7500 - val_mse: 2973982.7500 - lr: 0.0100\n",
      "Epoch 20/300\n",
      "1/5 [=====>........................] - ETA: 0s - loss: 32236928.0000 - mse: 32236928.0000\n",
      "Epoch 20: val_loss did not improve from 2973982.75000\n",
      "5/5 [==============================] - 0s 22ms/step - loss: 10328461.0000 - mse: 10328461.0000 - val_loss: 5333470.5000 - val_mse: 5333470.5000 - lr: 0.0100\n",
      "Epoch 21/300\n",
      "1/5 [=====>........................] - ETA: 0s - loss: 36408776.0000 - mse: 36408776.0000\n",
      "Epoch 21: val_loss improved from 2973982.75000 to 2794210.25000, saving model to checkpoint\\lstm_1014_check.h5\n",
      "5/5 [==============================] - 0s 28ms/step - loss: 10177343.0000 - mse: 10177343.0000 - val_loss: 2794210.2500 - val_mse: 2794210.2500 - lr: 0.0100\n",
      "Epoch 22/300\n",
      "1/5 [=====>........................] - ETA: 0s - loss: 34030452.0000 - mse: 34030452.0000\n",
      "Epoch 22: val_loss improved from 2794210.25000 to 2665181.75000, saving model to checkpoint\\lstm_1014_check.h5\n",
      "5/5 [==============================] - 0s 30ms/step - loss: 11471049.0000 - mse: 11471049.0000 - val_loss: 2665181.7500 - val_mse: 2665181.7500 - lr: 0.0100\n",
      "Epoch 23/300\n",
      "1/5 [=====>........................] - ETA: 0s - loss: 33056008.0000 - mse: 33056008.0000\n",
      "Epoch 23: val_loss improved from 2665181.75000 to 2658710.50000, saving model to checkpoint\\lstm_1014_check.h5\n",
      "5/5 [==============================] - 0s 30ms/step - loss: 11793461.0000 - mse: 11793461.0000 - val_loss: 2658710.5000 - val_mse: 2658710.5000 - lr: 0.0100\n",
      "Epoch 24/300\n",
      "4/5 [=======================>......] - ETA: 0s - loss: 10289305.0000 - mse: 10289305.0000\n",
      "Epoch 24: val_loss did not improve from 2658710.50000\n",
      "5/5 [==============================] - 0s 41ms/step - loss: 10166136.0000 - mse: 10166136.0000 - val_loss: 7100065.5000 - val_mse: 7100065.5000 - lr: 0.0100\n",
      "Epoch 25/300\n",
      "1/5 [=====>........................] - ETA: 0s - loss: 32934046.0000 - mse: 32934046.0000\n",
      "Epoch 25: val_loss improved from 2658710.50000 to 2490894.00000, saving model to checkpoint\\lstm_1014_check.h5\n",
      "5/5 [==============================] - 0s 32ms/step - loss: 9231432.0000 - mse: 9231432.0000 - val_loss: 2490894.0000 - val_mse: 2490894.0000 - lr: 0.0100\n",
      "Epoch 26/300\n",
      "1/5 [=====>........................] - ETA: 0s - loss: 31678262.0000 - mse: 31678262.0000\n",
      "Epoch 26: val_loss did not improve from 2490894.00000\n",
      "5/5 [==============================] - 0s 25ms/step - loss: 9114835.0000 - mse: 9114835.0000 - val_loss: 2560251.2500 - val_mse: 2560251.2500 - lr: 0.0100\n",
      "Epoch 27/300\n",
      "1/5 [=====>........................] - ETA: 0s - loss: 31384576.0000 - mse: 31384576.0000\n",
      "Epoch 27: val_loss did not improve from 2490894.00000\n",
      "5/5 [==============================] - 0s 22ms/step - loss: 9046379.0000 - mse: 9046379.0000 - val_loss: 4253153.5000 - val_mse: 4253153.5000 - lr: 0.0100\n",
      "Epoch 28/300\n",
      "1/5 [=====>........................] - ETA: 0s - loss: 31743256.0000 - mse: 31743256.0000\n",
      "Epoch 28: val_loss improved from 2490894.00000 to 2395760.00000, saving model to checkpoint\\lstm_1014_check.h5\n",
      "5/5 [==============================] - 0s 30ms/step - loss: 8903481.0000 - mse: 8903481.0000 - val_loss: 2395760.0000 - val_mse: 2395760.0000 - lr: 0.0100\n",
      "Epoch 29/300\n",
      "1/5 [=====>........................] - ETA: 0s - loss: 31376682.0000 - mse: 31376682.0000\n",
      "Epoch 29: val_loss did not improve from 2395760.00000\n",
      "5/5 [==============================] - 0s 23ms/step - loss: 8709411.0000 - mse: 8709411.0000 - val_loss: 3859213.2500 - val_mse: 3859213.2500 - lr: 0.0100\n",
      "Epoch 30/300\n",
      "1/5 [=====>........................] - ETA: 0s - loss: 31947750.0000 - mse: 31947750.0000\n",
      "Epoch 30: val_loss did not improve from 2395760.00000\n",
      "5/5 [==============================] - 0s 26ms/step - loss: 8840414.0000 - mse: 8840414.0000 - val_loss: 2748255.2500 - val_mse: 2748255.2500 - lr: 0.0100\n",
      "Epoch 31/300\n",
      "1/5 [=====>........................] - ETA: 0s - loss: 31174638.0000 - mse: 31174638.0000\n",
      "Epoch 31: val_loss did not improve from 2395760.00000\n",
      "5/5 [==============================] - 0s 24ms/step - loss: 8673223.0000 - mse: 8673223.0000 - val_loss: 2479391.5000 - val_mse: 2479391.5000 - lr: 0.0100\n",
      "Epoch 32/300\n",
      "1/5 [=====>........................] - ETA: 0s - loss: 31434812.0000 - mse: 31434812.0000\n",
      "Epoch 32: val_loss did not improve from 2395760.00000\n",
      "5/5 [==============================] - 0s 21ms/step - loss: 9962161.0000 - mse: 9962161.0000 - val_loss: 2928461.7500 - val_mse: 2928461.7500 - lr: 0.0100\n",
      "Epoch 33/300\n",
      "1/5 [=====>........................] - ETA: 0s - loss: 32625908.0000 - mse: 32625908.0000\n",
      "Epoch 33: val_loss did not improve from 2395760.00000\n",
      "5/5 [==============================] - 0s 23ms/step - loss: 13981165.0000 - mse: 13981164.0000 - val_loss: 6289936.0000 - val_mse: 6289936.0000 - lr: 0.0100\n",
      "Epoch 34/300\n",
      "1/5 [=====>........................] - ETA: 0s - loss: 34854352.0000 - mse: 34854352.0000\n",
      "Epoch 34: val_loss did not improve from 2395760.00000\n",
      "5/5 [==============================] - 0s 22ms/step - loss: 338838272.0000 - mse: 338838272.0000 - val_loss: 88144352.0000 - val_mse: 88144352.0000 - lr: 0.0100\n",
      "Epoch 35/300\n",
      "1/5 [=====>........................] - ETA: 0s - loss: 81652856.0000 - mse: 81652856.0000\n",
      "Epoch 35: val_loss did not improve from 2395760.00000\n",
      "5/5 [==============================] - 0s 22ms/step - loss: 244657760.0000 - mse: 244657760.0000 - val_loss: 90400424.0000 - val_mse: 90400424.0000 - lr: 0.0100\n",
      "Epoch 36/300\n",
      "1/5 [=====>........................] - ETA: 0s - loss: 73248496.0000 - mse: 73248496.0000\n",
      "Epoch 36: val_loss did not improve from 2395760.00000\n",
      "5/5 [==============================] - 0s 21ms/step - loss: 188594848.0000 - mse: 188594848.0000 - val_loss: 355239072.0000 - val_mse: 355239072.0000 - lr: 0.0100\n",
      "Epoch 37/300\n",
      "1/5 [=====>........................] - ETA: 0s - loss: 198158496.0000 - mse: 198158496.0000\n",
      "Epoch 37: val_loss did not improve from 2395760.00000\n",
      "5/5 [==============================] - 0s 24ms/step - loss: 95874032.0000 - mse: 95874032.0000 - val_loss: 14273468.0000 - val_mse: 14273468.0000 - lr: 0.0100\n",
      "Epoch 38/300\n",
      "1/5 [=====>........................] - ETA: 0s - loss: 27866110.0000 - mse: 27866110.0000\n",
      "Epoch 38: val_loss did not improve from 2395760.00000\n",
      "5/5 [==============================] - 0s 23ms/step - loss: 101177568.0000 - mse: 101177560.0000 - val_loss: 70893160.0000 - val_mse: 70893160.0000 - lr: 0.0100\n",
      "Epoch 39/300\n",
      "1/5 [=====>........................] - ETA: 0s - loss: 53489636.0000 - mse: 53489636.0000\n",
      "Epoch 39: val_loss did not improve from 2395760.00000\n",
      "5/5 [==============================] - 0s 21ms/step - loss: 46873792.0000 - mse: 46873792.0000 - val_loss: 89034424.0000 - val_mse: 89034424.0000 - lr: 0.0100\n",
      "Epoch 40/300\n",
      "3/5 [=================>............] - ETA: 0s - loss: 46426944.0000 - mse: 46426944.0000\n",
      "Epoch 40: val_loss did not improve from 2395760.00000\n",
      "5/5 [==============================] - 0s 44ms/step - loss: 36536744.0000 - mse: 36536744.0000 - val_loss: 3120784.7500 - val_mse: 3120784.7500 - lr: 0.0100\n",
      "Epoch 41/300\n",
      "1/5 [=====>........................] - ETA: 0s - loss: 21466288.0000 - mse: 21466288.0000\n",
      "Epoch 41: val_loss did not improve from 2395760.00000\n",
      "5/5 [==============================] - 0s 23ms/step - loss: 31437604.0000 - mse: 31437604.0000 - val_loss: 36984992.0000 - val_mse: 36984992.0000 - lr: 0.0100\n",
      "Epoch 42/300\n",
      "1/5 [=====>........................] - ETA: 0s - loss: 35720688.0000 - mse: 35720688.0000\n",
      "Epoch 42: val_loss did not improve from 2395760.00000\n",
      "5/5 [==============================] - 0s 26ms/step - loss: 14523110.0000 - mse: 14523110.0000 - val_loss: 15338218.0000 - val_mse: 15338218.0000 - lr: 0.0100\n",
      "Epoch 43/300\n",
      "1/5 [=====>........................] - ETA: 0s - loss: 28398622.0000 - mse: 28398622.0000\n",
      "Epoch 43: val_loss did not improve from 2395760.00000\n",
      "5/5 [==============================] - 0s 26ms/step - loss: 14527850.0000 - mse: 14527850.0000 - val_loss: 2754156.0000 - val_mse: 2754156.0000 - lr: 0.0100\n",
      "Epoch 44/300\n",
      "1/5 [=====>........................] - ETA: 0s - loss: 20885582.0000 - mse: 20885582.0000\n",
      "Epoch 44: val_loss did not improve from 2395760.00000\n",
      "5/5 [==============================] - 0s 26ms/step - loss: 11603398.0000 - mse: 11603398.0000 - val_loss: 13912605.0000 - val_mse: 13912604.0000 - lr: 0.0100\n",
      "Epoch 45/300\n",
      "1/5 [=====>........................] - ETA: 0s - loss: 24941362.0000 - mse: 24941362.0000\n",
      "Epoch 45: val_loss did not improve from 2395760.00000\n",
      "5/5 [==============================] - 0s 23ms/step - loss: 8442483.0000 - mse: 8442482.0000 - val_loss: 3601604.0000 - val_mse: 3601604.0000 - lr: 0.0100\n",
      "Epoch 46/300\n",
      "1/5 [=====>........................] - ETA: 0s - loss: 21295234.0000 - mse: 21295234.0000\n",
      "Epoch 46: val_loss did not improve from 2395760.00000\n",
      "5/5 [==============================] - 0s 22ms/step - loss: 8572161.0000 - mse: 8572162.0000 - val_loss: 2729172.0000 - val_mse: 2729172.0000 - lr: 0.0100\n",
      "Epoch 47/300\n",
      "1/5 [=====>........................] - ETA: 0s - loss: 20266742.0000 - mse: 20266742.0000\n",
      "Epoch 47: val_loss did not improve from 2395760.00000\n",
      "5/5 [==============================] - 0s 19ms/step - loss: 7600684.0000 - mse: 7600684.0000 - val_loss: 6256944.0000 - val_mse: 6256944.0000 - lr: 0.0100\n",
      "Epoch 48/300\n",
      "1/5 [=====>........................] - ETA: 0s - loss: 21223086.0000 - mse: 21223086.0000\n",
      "Epoch 48: val_loss did not improve from 2395760.00000\n",
      "5/5 [==============================] - 0s 18ms/step - loss: 7153795.5000 - mse: 7153795.5000 - val_loss: 2728167.2500 - val_mse: 2728167.2500 - lr: 0.0100\n",
      "Epoch 49/300\n",
      "1/5 [=====>........................] - ETA: 0s - loss: 19066568.0000 - mse: 19066568.0000\n",
      "Epoch 49: val_loss did not improve from 2395760.00000\n",
      "5/5 [==============================] - 0s 18ms/step - loss: 6945844.0000 - mse: 6945844.0000 - val_loss: 2771217.7500 - val_mse: 2771217.7500 - lr: 0.0100\n",
      "Epoch 50/300\n",
      "1/5 [=====>........................] - ETA: 0s - loss: 18301604.0000 - mse: 18301604.0000\n",
      "Epoch 50: val_loss did not improve from 2395760.00000\n",
      "5/5 [==============================] - 0s 19ms/step - loss: 6548424.0000 - mse: 6548424.0000 - val_loss: 4091865.2500 - val_mse: 4091865.2500 - lr: 0.0100\n",
      "Epoch 51/300\n",
      "1/5 [=====>........................] - ETA: 0s - loss: 16175077.0000 - mse: 16175077.0000\n",
      "Epoch 51: val_loss did not improve from 2395760.00000\n",
      "5/5 [==============================] - 0s 19ms/step - loss: 6032516.5000 - mse: 6032516.5000 - val_loss: 2868814.5000 - val_mse: 2868814.5000 - lr: 0.0100\n",
      "Epoch 52/300\n",
      "1/5 [=====>........................] - ETA: 0s - loss: 12770289.0000 - mse: 12770289.0000\n",
      "Epoch 52: val_loss did not improve from 2395760.00000\n",
      "5/5 [==============================] - 0s 19ms/step - loss: 34089148.0000 - mse: 34089148.0000 - val_loss: 17340706.0000 - val_mse: 17340706.0000 - lr: 0.0100\n",
      "Epoch 53/300\n",
      "1/5 [=====>........................] - ETA: 0s - loss: 19151246.0000 - mse: 19151246.0000\n",
      "Epoch 53: val_loss did not improve from 2395760.00000\n",
      "5/5 [==============================] - 0s 20ms/step - loss: 53663540.0000 - mse: 53663540.0000 - val_loss: 34993964.0000 - val_mse: 34993964.0000 - lr: 0.0100\n",
      "Epoch 54/300\n",
      "1/5 [=====>........................] - ETA: 0s - loss: 28390106.0000 - mse: 28390106.0000\n",
      "Epoch 54: val_loss did not improve from 2395760.00000\n",
      "5/5 [==============================] - 0s 23ms/step - loss: 19865696.0000 - mse: 19865696.0000 - val_loss: 44759376.0000 - val_mse: 44759376.0000 - lr: 0.0100\n",
      "Epoch 55/300\n",
      "1/5 [=====>........................] - ETA: 0s - loss: 29117070.0000 - mse: 29117070.0000\n",
      "Epoch 55: val_loss did not improve from 2395760.00000\n",
      "5/5 [==============================] - 0s 20ms/step - loss: 12672878.0000 - mse: 12672878.0000 - val_loss: 3506612.0000 - val_mse: 3506612.0000 - lr: 0.0100\n",
      "Epoch 56/300\n",
      "1/5 [=====>........................] - ETA: 0s - loss: 11280091.0000 - mse: 11280091.0000\n",
      "Epoch 56: val_loss did not improve from 2395760.00000\n",
      "5/5 [==============================] - 0s 19ms/step - loss: 13218670.0000 - mse: 13218670.0000 - val_loss: 6155807.0000 - val_mse: 6155807.0000 - lr: 0.0100\n",
      "Epoch 57/300\n",
      "1/5 [=====>........................] - ETA: 0s - loss: 12966265.0000 - mse: 12966265.0000\n",
      "Epoch 57: val_loss did not improve from 2395760.00000\n",
      "5/5 [==============================] - 0s 19ms/step - loss: 7849419.5000 - mse: 7849419.5000 - val_loss: 12920299.0000 - val_mse: 12920299.0000 - lr: 0.0100\n",
      "Epoch 58/300\n",
      "1/5 [=====>........................] - ETA: 0s - loss: 14512893.0000 - mse: 14512893.0000\n",
      "Epoch 58: val_loss did not improve from 2395760.00000\n",
      "\n",
      "Epoch 58: ReduceLROnPlateau reducing learning rate to 0.004999999888241291.\n",
      "5/5 [==============================] - 0s 19ms/step - loss: 6316722.0000 - mse: 6316722.0000 - val_loss: 2816031.5000 - val_mse: 2816031.5000 - lr: 0.0100\n"
     ]
    }
   ],
   "source": [
    "# train model\n",
    "train_lstm.fit_lstm(\n",
    "    df=df,\n",
    "    steps=steps,\n",
    "    metrics=metrics,\n",
    "    check_point_name = \"1014_check\",\n",
    "    **lstm_params,\n",
    ")"
   ]
  },
  {
   "cell_type": "code",
   "execution_count": 10,
   "metadata": {},
   "outputs": [
    {
     "data": {
      "application/vnd.plotly.v1+json": {
       "config": {
        "plotlyServerURL": "https://plot.ly"
       },
       "data": [
        {
         "name": "Train",
         "type": "scatter",
         "x": [
          1,
          2,
          3,
          4,
          5,
          6,
          7,
          8,
          9,
          10,
          11,
          12,
          13,
          14,
          15,
          16,
          17,
          18,
          19,
          20,
          21,
          22,
          23,
          24,
          25,
          26,
          27,
          28,
          29,
          30,
          31,
          32,
          33,
          34,
          35,
          36,
          37,
          38,
          39,
          40,
          41,
          42,
          43,
          44,
          45,
          46,
          47,
          48,
          49,
          50,
          51,
          52,
          53,
          54,
          55,
          56,
          57,
          58
         ],
         "y": [
          1488852608,
          556915200,
          698744576,
          361421632,
          91134288,
          41226136,
          26716926,
          66017816,
          119683976,
          387089440,
          143560384,
          76202960,
          88645280,
          60366428,
          25992582,
          15777842,
          15871422,
          11496057,
          10301208,
          10328461,
          10177343,
          11471049,
          11793461,
          10166136,
          9231432,
          9114835,
          9046379,
          8903481,
          8709411,
          8840414,
          8673223,
          9962161,
          13981164,
          338838272,
          244657760,
          188594848,
          95874032,
          101177560,
          46873792,
          36536744,
          31437604,
          14523110,
          14527850,
          11603398,
          8442482,
          8572162,
          7600684,
          7153795.5,
          6945844,
          6548424,
          6032516.5,
          34089148,
          53663540,
          19865696,
          12672878,
          13218670,
          7849419.5,
          6316722
         ]
        },
        {
         "name": "val",
         "type": "scatter",
         "x": [
          1,
          2,
          3,
          4,
          5,
          6,
          7,
          8,
          9,
          10,
          11,
          12,
          13,
          14,
          15,
          16,
          17,
          18,
          19,
          20,
          21,
          22,
          23,
          24,
          25,
          26,
          27,
          28,
          29,
          30,
          31,
          32,
          33,
          34,
          35,
          36,
          37,
          38,
          39,
          40,
          41,
          42,
          43,
          44,
          45,
          46,
          47,
          48,
          49,
          50,
          51,
          52,
          53,
          54,
          55,
          56,
          57,
          58
         ],
         "y": [
          536414592,
          263531936,
          690096896,
          379895712,
          163248720,
          23150158,
          267789760,
          148526048,
          95453536,
          601910976,
          270453024,
          21080886,
          27902738,
          32793140,
          24926638,
          3954871.25,
          11397035,
          6051803,
          2973982.75,
          5333470.5,
          2794210.25,
          2665181.75,
          2658710.5,
          7100065.5,
          2490894,
          2560251.25,
          4253153.5,
          2395760,
          3859213.25,
          2748255.25,
          2479391.5,
          2928461.75,
          6289936,
          88144352,
          90400424,
          355239072,
          14273468,
          70893160,
          89034424,
          3120784.75,
          36984992,
          15338218,
          2754156,
          13912604,
          3601604,
          2729172,
          6256944,
          2728167.25,
          2771217.75,
          4091865.25,
          2868814.5,
          17340706,
          34993964,
          44759376,
          3506612,
          6155807,
          12920299,
          2816031.5
         ]
        }
       ],
       "layout": {
        "template": {
         "data": {
          "bar": [
           {
            "error_x": {
             "color": "#2a3f5f"
            },
            "error_y": {
             "color": "#2a3f5f"
            },
            "marker": {
             "line": {
              "color": "#E5ECF6",
              "width": 0.5
             },
             "pattern": {
              "fillmode": "overlay",
              "size": 10,
              "solidity": 0.2
             }
            },
            "type": "bar"
           }
          ],
          "barpolar": [
           {
            "marker": {
             "line": {
              "color": "#E5ECF6",
              "width": 0.5
             },
             "pattern": {
              "fillmode": "overlay",
              "size": 10,
              "solidity": 0.2
             }
            },
            "type": "barpolar"
           }
          ],
          "carpet": [
           {
            "aaxis": {
             "endlinecolor": "#2a3f5f",
             "gridcolor": "white",
             "linecolor": "white",
             "minorgridcolor": "white",
             "startlinecolor": "#2a3f5f"
            },
            "baxis": {
             "endlinecolor": "#2a3f5f",
             "gridcolor": "white",
             "linecolor": "white",
             "minorgridcolor": "white",
             "startlinecolor": "#2a3f5f"
            },
            "type": "carpet"
           }
          ],
          "choropleth": [
           {
            "colorbar": {
             "outlinewidth": 0,
             "ticks": ""
            },
            "type": "choropleth"
           }
          ],
          "contour": [
           {
            "colorbar": {
             "outlinewidth": 0,
             "ticks": ""
            },
            "colorscale": [
             [
              0,
              "#0d0887"
             ],
             [
              0.1111111111111111,
              "#46039f"
             ],
             [
              0.2222222222222222,
              "#7201a8"
             ],
             [
              0.3333333333333333,
              "#9c179e"
             ],
             [
              0.4444444444444444,
              "#bd3786"
             ],
             [
              0.5555555555555556,
              "#d8576b"
             ],
             [
              0.6666666666666666,
              "#ed7953"
             ],
             [
              0.7777777777777778,
              "#fb9f3a"
             ],
             [
              0.8888888888888888,
              "#fdca26"
             ],
             [
              1,
              "#f0f921"
             ]
            ],
            "type": "contour"
           }
          ],
          "contourcarpet": [
           {
            "colorbar": {
             "outlinewidth": 0,
             "ticks": ""
            },
            "type": "contourcarpet"
           }
          ],
          "heatmap": [
           {
            "colorbar": {
             "outlinewidth": 0,
             "ticks": ""
            },
            "colorscale": [
             [
              0,
              "#0d0887"
             ],
             [
              0.1111111111111111,
              "#46039f"
             ],
             [
              0.2222222222222222,
              "#7201a8"
             ],
             [
              0.3333333333333333,
              "#9c179e"
             ],
             [
              0.4444444444444444,
              "#bd3786"
             ],
             [
              0.5555555555555556,
              "#d8576b"
             ],
             [
              0.6666666666666666,
              "#ed7953"
             ],
             [
              0.7777777777777778,
              "#fb9f3a"
             ],
             [
              0.8888888888888888,
              "#fdca26"
             ],
             [
              1,
              "#f0f921"
             ]
            ],
            "type": "heatmap"
           }
          ],
          "heatmapgl": [
           {
            "colorbar": {
             "outlinewidth": 0,
             "ticks": ""
            },
            "colorscale": [
             [
              0,
              "#0d0887"
             ],
             [
              0.1111111111111111,
              "#46039f"
             ],
             [
              0.2222222222222222,
              "#7201a8"
             ],
             [
              0.3333333333333333,
              "#9c179e"
             ],
             [
              0.4444444444444444,
              "#bd3786"
             ],
             [
              0.5555555555555556,
              "#d8576b"
             ],
             [
              0.6666666666666666,
              "#ed7953"
             ],
             [
              0.7777777777777778,
              "#fb9f3a"
             ],
             [
              0.8888888888888888,
              "#fdca26"
             ],
             [
              1,
              "#f0f921"
             ]
            ],
            "type": "heatmapgl"
           }
          ],
          "histogram": [
           {
            "marker": {
             "pattern": {
              "fillmode": "overlay",
              "size": 10,
              "solidity": 0.2
             }
            },
            "type": "histogram"
           }
          ],
          "histogram2d": [
           {
            "colorbar": {
             "outlinewidth": 0,
             "ticks": ""
            },
            "colorscale": [
             [
              0,
              "#0d0887"
             ],
             [
              0.1111111111111111,
              "#46039f"
             ],
             [
              0.2222222222222222,
              "#7201a8"
             ],
             [
              0.3333333333333333,
              "#9c179e"
             ],
             [
              0.4444444444444444,
              "#bd3786"
             ],
             [
              0.5555555555555556,
              "#d8576b"
             ],
             [
              0.6666666666666666,
              "#ed7953"
             ],
             [
              0.7777777777777778,
              "#fb9f3a"
             ],
             [
              0.8888888888888888,
              "#fdca26"
             ],
             [
              1,
              "#f0f921"
             ]
            ],
            "type": "histogram2d"
           }
          ],
          "histogram2dcontour": [
           {
            "colorbar": {
             "outlinewidth": 0,
             "ticks": ""
            },
            "colorscale": [
             [
              0,
              "#0d0887"
             ],
             [
              0.1111111111111111,
              "#46039f"
             ],
             [
              0.2222222222222222,
              "#7201a8"
             ],
             [
              0.3333333333333333,
              "#9c179e"
             ],
             [
              0.4444444444444444,
              "#bd3786"
             ],
             [
              0.5555555555555556,
              "#d8576b"
             ],
             [
              0.6666666666666666,
              "#ed7953"
             ],
             [
              0.7777777777777778,
              "#fb9f3a"
             ],
             [
              0.8888888888888888,
              "#fdca26"
             ],
             [
              1,
              "#f0f921"
             ]
            ],
            "type": "histogram2dcontour"
           }
          ],
          "mesh3d": [
           {
            "colorbar": {
             "outlinewidth": 0,
             "ticks": ""
            },
            "type": "mesh3d"
           }
          ],
          "parcoords": [
           {
            "line": {
             "colorbar": {
              "outlinewidth": 0,
              "ticks": ""
             }
            },
            "type": "parcoords"
           }
          ],
          "pie": [
           {
            "automargin": true,
            "type": "pie"
           }
          ],
          "scatter": [
           {
            "fillpattern": {
             "fillmode": "overlay",
             "size": 10,
             "solidity": 0.2
            },
            "type": "scatter"
           }
          ],
          "scatter3d": [
           {
            "line": {
             "colorbar": {
              "outlinewidth": 0,
              "ticks": ""
             }
            },
            "marker": {
             "colorbar": {
              "outlinewidth": 0,
              "ticks": ""
             }
            },
            "type": "scatter3d"
           }
          ],
          "scattercarpet": [
           {
            "marker": {
             "colorbar": {
              "outlinewidth": 0,
              "ticks": ""
             }
            },
            "type": "scattercarpet"
           }
          ],
          "scattergeo": [
           {
            "marker": {
             "colorbar": {
              "outlinewidth": 0,
              "ticks": ""
             }
            },
            "type": "scattergeo"
           }
          ],
          "scattergl": [
           {
            "marker": {
             "colorbar": {
              "outlinewidth": 0,
              "ticks": ""
             }
            },
            "type": "scattergl"
           }
          ],
          "scattermapbox": [
           {
            "marker": {
             "colorbar": {
              "outlinewidth": 0,
              "ticks": ""
             }
            },
            "type": "scattermapbox"
           }
          ],
          "scatterpolar": [
           {
            "marker": {
             "colorbar": {
              "outlinewidth": 0,
              "ticks": ""
             }
            },
            "type": "scatterpolar"
           }
          ],
          "scatterpolargl": [
           {
            "marker": {
             "colorbar": {
              "outlinewidth": 0,
              "ticks": ""
             }
            },
            "type": "scatterpolargl"
           }
          ],
          "scatterternary": [
           {
            "marker": {
             "colorbar": {
              "outlinewidth": 0,
              "ticks": ""
             }
            },
            "type": "scatterternary"
           }
          ],
          "surface": [
           {
            "colorbar": {
             "outlinewidth": 0,
             "ticks": ""
            },
            "colorscale": [
             [
              0,
              "#0d0887"
             ],
             [
              0.1111111111111111,
              "#46039f"
             ],
             [
              0.2222222222222222,
              "#7201a8"
             ],
             [
              0.3333333333333333,
              "#9c179e"
             ],
             [
              0.4444444444444444,
              "#bd3786"
             ],
             [
              0.5555555555555556,
              "#d8576b"
             ],
             [
              0.6666666666666666,
              "#ed7953"
             ],
             [
              0.7777777777777778,
              "#fb9f3a"
             ],
             [
              0.8888888888888888,
              "#fdca26"
             ],
             [
              1,
              "#f0f921"
             ]
            ],
            "type": "surface"
           }
          ],
          "table": [
           {
            "cells": {
             "fill": {
              "color": "#EBF0F8"
             },
             "line": {
              "color": "white"
             }
            },
            "header": {
             "fill": {
              "color": "#C8D4E3"
             },
             "line": {
              "color": "white"
             }
            },
            "type": "table"
           }
          ]
         },
         "layout": {
          "annotationdefaults": {
           "arrowcolor": "#2a3f5f",
           "arrowhead": 0,
           "arrowwidth": 1
          },
          "autotypenumbers": "strict",
          "coloraxis": {
           "colorbar": {
            "outlinewidth": 0,
            "ticks": ""
           }
          },
          "colorscale": {
           "diverging": [
            [
             0,
             "#8e0152"
            ],
            [
             0.1,
             "#c51b7d"
            ],
            [
             0.2,
             "#de77ae"
            ],
            [
             0.3,
             "#f1b6da"
            ],
            [
             0.4,
             "#fde0ef"
            ],
            [
             0.5,
             "#f7f7f7"
            ],
            [
             0.6,
             "#e6f5d0"
            ],
            [
             0.7,
             "#b8e186"
            ],
            [
             0.8,
             "#7fbc41"
            ],
            [
             0.9,
             "#4d9221"
            ],
            [
             1,
             "#276419"
            ]
           ],
           "sequential": [
            [
             0,
             "#0d0887"
            ],
            [
             0.1111111111111111,
             "#46039f"
            ],
            [
             0.2222222222222222,
             "#7201a8"
            ],
            [
             0.3333333333333333,
             "#9c179e"
            ],
            [
             0.4444444444444444,
             "#bd3786"
            ],
            [
             0.5555555555555556,
             "#d8576b"
            ],
            [
             0.6666666666666666,
             "#ed7953"
            ],
            [
             0.7777777777777778,
             "#fb9f3a"
            ],
            [
             0.8888888888888888,
             "#fdca26"
            ],
            [
             1,
             "#f0f921"
            ]
           ],
           "sequentialminus": [
            [
             0,
             "#0d0887"
            ],
            [
             0.1111111111111111,
             "#46039f"
            ],
            [
             0.2222222222222222,
             "#7201a8"
            ],
            [
             0.3333333333333333,
             "#9c179e"
            ],
            [
             0.4444444444444444,
             "#bd3786"
            ],
            [
             0.5555555555555556,
             "#d8576b"
            ],
            [
             0.6666666666666666,
             "#ed7953"
            ],
            [
             0.7777777777777778,
             "#fb9f3a"
            ],
            [
             0.8888888888888888,
             "#fdca26"
            ],
            [
             1,
             "#f0f921"
            ]
           ]
          },
          "colorway": [
           "#636efa",
           "#EF553B",
           "#00cc96",
           "#ab63fa",
           "#FFA15A",
           "#19d3f3",
           "#FF6692",
           "#B6E880",
           "#FF97FF",
           "#FECB52"
          ],
          "font": {
           "color": "#2a3f5f"
          },
          "geo": {
           "bgcolor": "white",
           "lakecolor": "white",
           "landcolor": "#E5ECF6",
           "showlakes": true,
           "showland": true,
           "subunitcolor": "white"
          },
          "hoverlabel": {
           "align": "left"
          },
          "hovermode": "closest",
          "mapbox": {
           "style": "light"
          },
          "paper_bgcolor": "white",
          "plot_bgcolor": "#E5ECF6",
          "polar": {
           "angularaxis": {
            "gridcolor": "white",
            "linecolor": "white",
            "ticks": ""
           },
           "bgcolor": "#E5ECF6",
           "radialaxis": {
            "gridcolor": "white",
            "linecolor": "white",
            "ticks": ""
           }
          },
          "scene": {
           "xaxis": {
            "backgroundcolor": "#E5ECF6",
            "gridcolor": "white",
            "gridwidth": 2,
            "linecolor": "white",
            "showbackground": true,
            "ticks": "",
            "zerolinecolor": "white"
           },
           "yaxis": {
            "backgroundcolor": "#E5ECF6",
            "gridcolor": "white",
            "gridwidth": 2,
            "linecolor": "white",
            "showbackground": true,
            "ticks": "",
            "zerolinecolor": "white"
           },
           "zaxis": {
            "backgroundcolor": "#E5ECF6",
            "gridcolor": "white",
            "gridwidth": 2,
            "linecolor": "white",
            "showbackground": true,
            "ticks": "",
            "zerolinecolor": "white"
           }
          },
          "shapedefaults": {
           "line": {
            "color": "#2a3f5f"
           }
          },
          "ternary": {
           "aaxis": {
            "gridcolor": "white",
            "linecolor": "white",
            "ticks": ""
           },
           "baxis": {
            "gridcolor": "white",
            "linecolor": "white",
            "ticks": ""
           },
           "bgcolor": "#E5ECF6",
           "caxis": {
            "gridcolor": "white",
            "linecolor": "white",
            "ticks": ""
           }
          },
          "title": {
           "x": 0.05
          },
          "xaxis": {
           "automargin": true,
           "gridcolor": "white",
           "linecolor": "white",
           "ticks": "",
           "title": {
            "standoff": 15
           },
           "zerolinecolor": "white",
           "zerolinewidth": 2
          },
          "yaxis": {
           "automargin": true,
           "gridcolor": "white",
           "linecolor": "white",
           "ticks": "",
           "title": {
            "standoff": 15
           },
           "zerolinecolor": "white",
           "zerolinewidth": 2
          }
         }
        },
        "title": {
         "text": "Performance Metric"
        },
        "xaxis": {
         "title": {
          "text": "Epoch"
         }
        },
        "yaxis": {
         "title": {
          "text": "mse"
         }
        }
       }
      }
     },
     "metadata": {},
     "output_type": "display_data"
    }
   ],
   "source": [
    "train_lstm.plot_train_valid()"
   ]
  },
  {
   "cell_type": "code",
   "execution_count": 11,
   "metadata": {},
   "outputs": [],
   "source": [
    "def calculate_metrics(df_fcst):\n",
    "    true = df_fcst[\"y\"]\n",
    "    pred = df_fcst[\"y_pred\"]\n",
    "\n",
    "    mae = (true - pred).abs().mean()\n",
    "    mse = ((true - pred) ** 2).mean()\n",
    "    return {\n",
    "        \"mae\": mae,\n",
    "        \"mse\": mse\n",
    "    }"
   ]
  },
  {
   "cell_type": "code",
   "execution_count": 12,
   "metadata": {},
   "outputs": [],
   "source": [
    "# load model\n",
    "model = keras.models.load_model('checkpoint/lstm_1014_check.h5')"
   ]
  },
  {
   "cell_type": "code",
   "execution_count": 13,
   "metadata": {},
   "outputs": [
    {
     "name": "stdout",
     "output_type": "stream",
     "text": [
      "mse of val dataset: 2395761.182\n",
      "mse of test dataset: 2126058.573\n"
     ]
    }
   ],
   "source": [
    "# validation loss\n",
    "df_pred_val = train_lstm.validation_pred_dataset()\n",
    "val_loss = calculate_metrics(df_fcst=df_pred_val)[metrics]\n",
    "# test loss\n",
    "df_pred_test = test_lstm.test_pred_dataset(x_test, y_test, model)\n",
    "test_loss = calculate_metrics(df_fcst=df_pred_test)[metrics]\n",
    "\n",
    "print(f\"{metrics} of val dataset: {round(val_loss, 3)}\")\n",
    "print(f\"{metrics} of test dataset: {round(test_loss, 3)}\")"
   ]
  },
  {
   "cell_type": "code",
   "execution_count": 14,
   "metadata": {},
   "outputs": [
    {
     "data": {
      "application/vnd.plotly.v1+json": {
       "config": {
        "plotlyServerURL": "https://plot.ly"
       },
       "data": [
        {
         "name": "y",
         "type": "scatter",
         "y": [
          60700,
          60400,
          60500,
          60500,
          60800,
          61100,
          61000,
          60400,
          61500,
          61800,
          63400,
          63900,
          64600,
          63300,
          61000,
          61800,
          63500,
          63800,
          61600,
          61900,
          63100,
          63000,
          62800,
          62900,
          63200,
          62200,
          63700,
          62600,
          62700,
          62100,
          61100,
          62000,
          61300,
          60500,
          60600,
          60800,
          60500,
          61500,
          60700,
          60300,
          60100,
          59500,
          60000,
          59000,
          59800,
          59900,
          61300,
          60200,
          60300,
          61100,
          62300,
          63000,
          62100,
          62900,
          62700,
          63200,
          64000,
          63100,
          63600,
          63900,
          62300,
          65000,
          65700,
          65900,
          66000,
          66100,
          65100,
          65300,
          65600,
          65500,
          65300,
          65700,
          65200,
          63600,
          64100,
          64600,
          65500,
          65700,
          65400,
          65100,
          65900,
          65300,
          64600,
          64200,
          64100,
          64500,
          65400,
          65000,
          66200,
          68400,
          68500,
          68400,
          68500,
          68800,
          70300,
          72300,
          71400,
          70900,
          72200,
          71700,
          71000,
          70900,
          72000,
          71000,
          72000,
          71900,
          71500,
          71800,
          71200,
          71400,
          70500,
          71300,
          71600,
          72400,
          72600,
          72700,
          72400,
          72200,
          73000,
          73000,
          72000,
          71600,
          69900,
          69500,
          71500,
          71900,
          71900,
          73400,
          73300,
          72000,
          71700,
          71000,
          70300,
          70400,
          70000,
          69800,
          71700,
          70600,
          69800,
          71100,
          69900,
          68800,
          68300,
          68500,
          67600,
          68900,
          68000,
          67500,
          67300,
          67000,
          66700,
          66300,
          66600,
          66600,
          67100,
          68200,
          67100,
          66800,
          66800,
          67100,
          66900,
          71000,
          71200,
          70700,
          70000,
          70400,
          70300,
          70800,
          70500,
          70900,
          71700,
          72000,
          70200,
          69800,
          69600,
          68900,
          68800,
          69400,
          68600,
          68400,
          67500,
          66700,
          66000,
          66400,
          68200,
          68900,
          68000
         ]
        },
        {
         "name": "y_pred",
         "type": "scatter",
         "y": [
          56200.94140625,
          56772.7734375,
          57917.1875,
          58946.1328125,
          59525.8515625,
          60232.0390625,
          60447.7109375,
          60630.59375,
          60603.9140625,
          60695.9453125,
          60833.59375,
          61045.609375,
          61317.796875,
          62076.52734375,
          62882.6640625,
          63475.0078125,
          63275.0234375,
          63078.9375,
          62699.7265625,
          62162.96875,
          62220.00390625,
          62630.21875,
          62558.5546875,
          62250.4375,
          62346.4921875,
          62669.76171875,
          62738.703125,
          62777.41015625,
          62792.375,
          62837.08984375,
          62534.37890625,
          62353.5078125,
          62119.703125,
          61907.203125,
          61647.51953125,
          61228.40234375,
          61214.25,
          60966.1484375,
          60675.875,
          60812.3359375,
          60763.25,
          60640.4609375,
          60491.515625,
          60151.57421875,
          59761.703125,
          59622.83984375,
          59429.87890625,
          59598.26171875,
          59781.515625,
          60019.6015625,
          60187.9375,
          60648.2734375,
          60804.1875,
          61127.9921875,
          61447.5,
          61927.984375,
          62466.8125,
          62621.3203125,
          62862.30078125,
          63103.78125,
          63419.1953125,
          63417.1484375,
          63314.47265625,
          63534.390625,
          63961.07421875,
          64190.6796875,
          64997.16015625,
          65424.8515625,
          65558.015625,
          65404.39453125,
          65371.3125,
          65214.2109375,
          65111.96484375,
          65224.1796875,
          65124.94140625,
          64810.5546875,
          64635.3359375,
          64348.33984375,
          64230.578125,
          64304.15234375,
          64652.4609375,
          65272.7421875,
          65324.67578125,
          65186.15625,
          65134.515625,
          65018.50390625,
          64620.9296875,
          64445.7578125,
          64502.78125,
          64536.3671875,
          65290.98046875,
          66172.5859375,
          66561.3046875,
          67287.2421875,
          68172.9140625,
          68576.7421875,
          68995.53125,
          69612.7421875,
          70202.8828125,
          70843.8203125,
          71431.9765625,
          71412.609375,
          71197.5703125,
          71313.09375,
          71204.453125,
          71013.4921875,
          71025.40625,
          71394.421875,
          71478.90625,
          71497.890625,
          71299.5859375,
          71150.8203125,
          70907.2421875,
          70860.7421875,
          70911.0078125,
          71130.2734375,
          71462.8046875,
          72021.3359375,
          72136.9140625,
          72317.671875,
          72468.109375,
          72586.3046875,
          72427.0078125,
          72332.5390625,
          71836.515625,
          71139.6796875,
          70724.875,
          70497.6796875,
          70841.46875,
          71576.4609375,
          72162.6484375,
          72455.6640625,
          72378.5703125,
          71943.984375,
          71308.6015625,
          70736.671875,
          70159.3359375,
          69800.6875,
          69939.4609375,
          69901.9453125,
          69696.0703125,
          70219.4296875,
          70270.9921875,
          69838.3828125,
          69458.6015625,
          68980.6875,
          68473.0546875,
          68171.3984375,
          68002.6171875,
          67951.6953125,
          67753.59375,
          67373.7421875,
          66973.8046875,
          66571.078125,
          66384.4921875,
          66361.859375,
          66567.1953125,
          66903.09375,
          66855.015625,
          67044.3671875,
          67261.1484375,
          66893.421875,
          66953.59375,
          67589.3515625,
          68343.1484375,
          68677.25,
          69549.828125,
          70511.7890625,
          70139.6015625,
          70042.671875,
          70130.1640625,
          70350.8359375,
          70685.2265625,
          70893.6796875,
          70877.3046875,
          70787.9296875,
          70486.2890625,
          69793.109375,
          69334.0625,
          69100.9609375,
          68806.234375,
          68446.5234375,
          68224.3046875,
          67847.7421875,
          67288.2578125,
          66932.59375,
          67176.28125
         ]
        }
       ],
       "layout": {
        "template": {
         "data": {
          "bar": [
           {
            "error_x": {
             "color": "#2a3f5f"
            },
            "error_y": {
             "color": "#2a3f5f"
            },
            "marker": {
             "line": {
              "color": "#E5ECF6",
              "width": 0.5
             },
             "pattern": {
              "fillmode": "overlay",
              "size": 10,
              "solidity": 0.2
             }
            },
            "type": "bar"
           }
          ],
          "barpolar": [
           {
            "marker": {
             "line": {
              "color": "#E5ECF6",
              "width": 0.5
             },
             "pattern": {
              "fillmode": "overlay",
              "size": 10,
              "solidity": 0.2
             }
            },
            "type": "barpolar"
           }
          ],
          "carpet": [
           {
            "aaxis": {
             "endlinecolor": "#2a3f5f",
             "gridcolor": "white",
             "linecolor": "white",
             "minorgridcolor": "white",
             "startlinecolor": "#2a3f5f"
            },
            "baxis": {
             "endlinecolor": "#2a3f5f",
             "gridcolor": "white",
             "linecolor": "white",
             "minorgridcolor": "white",
             "startlinecolor": "#2a3f5f"
            },
            "type": "carpet"
           }
          ],
          "choropleth": [
           {
            "colorbar": {
             "outlinewidth": 0,
             "ticks": ""
            },
            "type": "choropleth"
           }
          ],
          "contour": [
           {
            "colorbar": {
             "outlinewidth": 0,
             "ticks": ""
            },
            "colorscale": [
             [
              0,
              "#0d0887"
             ],
             [
              0.1111111111111111,
              "#46039f"
             ],
             [
              0.2222222222222222,
              "#7201a8"
             ],
             [
              0.3333333333333333,
              "#9c179e"
             ],
             [
              0.4444444444444444,
              "#bd3786"
             ],
             [
              0.5555555555555556,
              "#d8576b"
             ],
             [
              0.6666666666666666,
              "#ed7953"
             ],
             [
              0.7777777777777778,
              "#fb9f3a"
             ],
             [
              0.8888888888888888,
              "#fdca26"
             ],
             [
              1,
              "#f0f921"
             ]
            ],
            "type": "contour"
           }
          ],
          "contourcarpet": [
           {
            "colorbar": {
             "outlinewidth": 0,
             "ticks": ""
            },
            "type": "contourcarpet"
           }
          ],
          "heatmap": [
           {
            "colorbar": {
             "outlinewidth": 0,
             "ticks": ""
            },
            "colorscale": [
             [
              0,
              "#0d0887"
             ],
             [
              0.1111111111111111,
              "#46039f"
             ],
             [
              0.2222222222222222,
              "#7201a8"
             ],
             [
              0.3333333333333333,
              "#9c179e"
             ],
             [
              0.4444444444444444,
              "#bd3786"
             ],
             [
              0.5555555555555556,
              "#d8576b"
             ],
             [
              0.6666666666666666,
              "#ed7953"
             ],
             [
              0.7777777777777778,
              "#fb9f3a"
             ],
             [
              0.8888888888888888,
              "#fdca26"
             ],
             [
              1,
              "#f0f921"
             ]
            ],
            "type": "heatmap"
           }
          ],
          "heatmapgl": [
           {
            "colorbar": {
             "outlinewidth": 0,
             "ticks": ""
            },
            "colorscale": [
             [
              0,
              "#0d0887"
             ],
             [
              0.1111111111111111,
              "#46039f"
             ],
             [
              0.2222222222222222,
              "#7201a8"
             ],
             [
              0.3333333333333333,
              "#9c179e"
             ],
             [
              0.4444444444444444,
              "#bd3786"
             ],
             [
              0.5555555555555556,
              "#d8576b"
             ],
             [
              0.6666666666666666,
              "#ed7953"
             ],
             [
              0.7777777777777778,
              "#fb9f3a"
             ],
             [
              0.8888888888888888,
              "#fdca26"
             ],
             [
              1,
              "#f0f921"
             ]
            ],
            "type": "heatmapgl"
           }
          ],
          "histogram": [
           {
            "marker": {
             "pattern": {
              "fillmode": "overlay",
              "size": 10,
              "solidity": 0.2
             }
            },
            "type": "histogram"
           }
          ],
          "histogram2d": [
           {
            "colorbar": {
             "outlinewidth": 0,
             "ticks": ""
            },
            "colorscale": [
             [
              0,
              "#0d0887"
             ],
             [
              0.1111111111111111,
              "#46039f"
             ],
             [
              0.2222222222222222,
              "#7201a8"
             ],
             [
              0.3333333333333333,
              "#9c179e"
             ],
             [
              0.4444444444444444,
              "#bd3786"
             ],
             [
              0.5555555555555556,
              "#d8576b"
             ],
             [
              0.6666666666666666,
              "#ed7953"
             ],
             [
              0.7777777777777778,
              "#fb9f3a"
             ],
             [
              0.8888888888888888,
              "#fdca26"
             ],
             [
              1,
              "#f0f921"
             ]
            ],
            "type": "histogram2d"
           }
          ],
          "histogram2dcontour": [
           {
            "colorbar": {
             "outlinewidth": 0,
             "ticks": ""
            },
            "colorscale": [
             [
              0,
              "#0d0887"
             ],
             [
              0.1111111111111111,
              "#46039f"
             ],
             [
              0.2222222222222222,
              "#7201a8"
             ],
             [
              0.3333333333333333,
              "#9c179e"
             ],
             [
              0.4444444444444444,
              "#bd3786"
             ],
             [
              0.5555555555555556,
              "#d8576b"
             ],
             [
              0.6666666666666666,
              "#ed7953"
             ],
             [
              0.7777777777777778,
              "#fb9f3a"
             ],
             [
              0.8888888888888888,
              "#fdca26"
             ],
             [
              1,
              "#f0f921"
             ]
            ],
            "type": "histogram2dcontour"
           }
          ],
          "mesh3d": [
           {
            "colorbar": {
             "outlinewidth": 0,
             "ticks": ""
            },
            "type": "mesh3d"
           }
          ],
          "parcoords": [
           {
            "line": {
             "colorbar": {
              "outlinewidth": 0,
              "ticks": ""
             }
            },
            "type": "parcoords"
           }
          ],
          "pie": [
           {
            "automargin": true,
            "type": "pie"
           }
          ],
          "scatter": [
           {
            "fillpattern": {
             "fillmode": "overlay",
             "size": 10,
             "solidity": 0.2
            },
            "type": "scatter"
           }
          ],
          "scatter3d": [
           {
            "line": {
             "colorbar": {
              "outlinewidth": 0,
              "ticks": ""
             }
            },
            "marker": {
             "colorbar": {
              "outlinewidth": 0,
              "ticks": ""
             }
            },
            "type": "scatter3d"
           }
          ],
          "scattercarpet": [
           {
            "marker": {
             "colorbar": {
              "outlinewidth": 0,
              "ticks": ""
             }
            },
            "type": "scattercarpet"
           }
          ],
          "scattergeo": [
           {
            "marker": {
             "colorbar": {
              "outlinewidth": 0,
              "ticks": ""
             }
            },
            "type": "scattergeo"
           }
          ],
          "scattergl": [
           {
            "marker": {
             "colorbar": {
              "outlinewidth": 0,
              "ticks": ""
             }
            },
            "type": "scattergl"
           }
          ],
          "scattermapbox": [
           {
            "marker": {
             "colorbar": {
              "outlinewidth": 0,
              "ticks": ""
             }
            },
            "type": "scattermapbox"
           }
          ],
          "scatterpolar": [
           {
            "marker": {
             "colorbar": {
              "outlinewidth": 0,
              "ticks": ""
             }
            },
            "type": "scatterpolar"
           }
          ],
          "scatterpolargl": [
           {
            "marker": {
             "colorbar": {
              "outlinewidth": 0,
              "ticks": ""
             }
            },
            "type": "scatterpolargl"
           }
          ],
          "scatterternary": [
           {
            "marker": {
             "colorbar": {
              "outlinewidth": 0,
              "ticks": ""
             }
            },
            "type": "scatterternary"
           }
          ],
          "surface": [
           {
            "colorbar": {
             "outlinewidth": 0,
             "ticks": ""
            },
            "colorscale": [
             [
              0,
              "#0d0887"
             ],
             [
              0.1111111111111111,
              "#46039f"
             ],
             [
              0.2222222222222222,
              "#7201a8"
             ],
             [
              0.3333333333333333,
              "#9c179e"
             ],
             [
              0.4444444444444444,
              "#bd3786"
             ],
             [
              0.5555555555555556,
              "#d8576b"
             ],
             [
              0.6666666666666666,
              "#ed7953"
             ],
             [
              0.7777777777777778,
              "#fb9f3a"
             ],
             [
              0.8888888888888888,
              "#fdca26"
             ],
             [
              1,
              "#f0f921"
             ]
            ],
            "type": "surface"
           }
          ],
          "table": [
           {
            "cells": {
             "fill": {
              "color": "#EBF0F8"
             },
             "line": {
              "color": "white"
             }
            },
            "header": {
             "fill": {
              "color": "#C8D4E3"
             },
             "line": {
              "color": "white"
             }
            },
            "type": "table"
           }
          ]
         },
         "layout": {
          "annotationdefaults": {
           "arrowcolor": "#2a3f5f",
           "arrowhead": 0,
           "arrowwidth": 1
          },
          "autotypenumbers": "strict",
          "coloraxis": {
           "colorbar": {
            "outlinewidth": 0,
            "ticks": ""
           }
          },
          "colorscale": {
           "diverging": [
            [
             0,
             "#8e0152"
            ],
            [
             0.1,
             "#c51b7d"
            ],
            [
             0.2,
             "#de77ae"
            ],
            [
             0.3,
             "#f1b6da"
            ],
            [
             0.4,
             "#fde0ef"
            ],
            [
             0.5,
             "#f7f7f7"
            ],
            [
             0.6,
             "#e6f5d0"
            ],
            [
             0.7,
             "#b8e186"
            ],
            [
             0.8,
             "#7fbc41"
            ],
            [
             0.9,
             "#4d9221"
            ],
            [
             1,
             "#276419"
            ]
           ],
           "sequential": [
            [
             0,
             "#0d0887"
            ],
            [
             0.1111111111111111,
             "#46039f"
            ],
            [
             0.2222222222222222,
             "#7201a8"
            ],
            [
             0.3333333333333333,
             "#9c179e"
            ],
            [
             0.4444444444444444,
             "#bd3786"
            ],
            [
             0.5555555555555556,
             "#d8576b"
            ],
            [
             0.6666666666666666,
             "#ed7953"
            ],
            [
             0.7777777777777778,
             "#fb9f3a"
            ],
            [
             0.8888888888888888,
             "#fdca26"
            ],
            [
             1,
             "#f0f921"
            ]
           ],
           "sequentialminus": [
            [
             0,
             "#0d0887"
            ],
            [
             0.1111111111111111,
             "#46039f"
            ],
            [
             0.2222222222222222,
             "#7201a8"
            ],
            [
             0.3333333333333333,
             "#9c179e"
            ],
            [
             0.4444444444444444,
             "#bd3786"
            ],
            [
             0.5555555555555556,
             "#d8576b"
            ],
            [
             0.6666666666666666,
             "#ed7953"
            ],
            [
             0.7777777777777778,
             "#fb9f3a"
            ],
            [
             0.8888888888888888,
             "#fdca26"
            ],
            [
             1,
             "#f0f921"
            ]
           ]
          },
          "colorway": [
           "#636efa",
           "#EF553B",
           "#00cc96",
           "#ab63fa",
           "#FFA15A",
           "#19d3f3",
           "#FF6692",
           "#B6E880",
           "#FF97FF",
           "#FECB52"
          ],
          "font": {
           "color": "#2a3f5f"
          },
          "geo": {
           "bgcolor": "white",
           "lakecolor": "white",
           "landcolor": "#E5ECF6",
           "showlakes": true,
           "showland": true,
           "subunitcolor": "white"
          },
          "hoverlabel": {
           "align": "left"
          },
          "hovermode": "closest",
          "mapbox": {
           "style": "light"
          },
          "paper_bgcolor": "white",
          "plot_bgcolor": "#E5ECF6",
          "polar": {
           "angularaxis": {
            "gridcolor": "white",
            "linecolor": "white",
            "ticks": ""
           },
           "bgcolor": "#E5ECF6",
           "radialaxis": {
            "gridcolor": "white",
            "linecolor": "white",
            "ticks": ""
           }
          },
          "scene": {
           "xaxis": {
            "backgroundcolor": "#E5ECF6",
            "gridcolor": "white",
            "gridwidth": 2,
            "linecolor": "white",
            "showbackground": true,
            "ticks": "",
            "zerolinecolor": "white"
           },
           "yaxis": {
            "backgroundcolor": "#E5ECF6",
            "gridcolor": "white",
            "gridwidth": 2,
            "linecolor": "white",
            "showbackground": true,
            "ticks": "",
            "zerolinecolor": "white"
           },
           "zaxis": {
            "backgroundcolor": "#E5ECF6",
            "gridcolor": "white",
            "gridwidth": 2,
            "linecolor": "white",
            "showbackground": true,
            "ticks": "",
            "zerolinecolor": "white"
           }
          },
          "shapedefaults": {
           "line": {
            "color": "#2a3f5f"
           }
          },
          "ternary": {
           "aaxis": {
            "gridcolor": "white",
            "linecolor": "white",
            "ticks": ""
           },
           "baxis": {
            "gridcolor": "white",
            "linecolor": "white",
            "ticks": ""
           },
           "bgcolor": "#E5ECF6",
           "caxis": {
            "gridcolor": "white",
            "linecolor": "white",
            "ticks": ""
           }
          },
          "title": {
           "x": 0.05
          },
          "xaxis": {
           "automargin": true,
           "gridcolor": "white",
           "linecolor": "white",
           "ticks": "",
           "title": {
            "standoff": 15
           },
           "zerolinecolor": "white",
           "zerolinewidth": 2
          },
          "yaxis": {
           "automargin": true,
           "gridcolor": "white",
           "linecolor": "white",
           "ticks": "",
           "title": {
            "standoff": 15
           },
           "zerolinecolor": "white",
           "zerolinewidth": 2
          }
         }
        },
        "xaxis": {
         "title": {
          "text": "x"
         }
        }
       }
      }
     },
     "metadata": {},
     "output_type": "display_data"
    }
   ],
   "source": [
    "test_lstm.plot_result()"
   ]
  },
  {
   "cell_type": "code",
   "execution_count": 15,
   "metadata": {},
   "outputs": [
    {
     "data": {
      "application/vnd.jupyter.widget-view+json": {
       "model_id": "21a4895fabb745f2b224f2e1519ffed9",
       "version_major": 2,
       "version_minor": 0
      },
      "text/plain": [
       "  0%|          | 0/3 [00:00<?, ?it/s]"
      ]
     },
     "metadata": {},
     "output_type": "display_data"
    },
    {
     "data": {
      "text/html": [
       "<div>\n",
       "<style scoped>\n",
       "    .dataframe tbody tr th:only-of-type {\n",
       "        vertical-align: middle;\n",
       "    }\n",
       "\n",
       "    .dataframe tbody tr th {\n",
       "        vertical-align: top;\n",
       "    }\n",
       "\n",
       "    .dataframe thead th {\n",
       "        text-align: right;\n",
       "    }\n",
       "</style>\n",
       "<table border=\"1\" class=\"dataframe\">\n",
       "  <thead>\n",
       "    <tr style=\"text-align: right;\">\n",
       "      <th></th>\n",
       "      <th>feature</th>\n",
       "      <th>mae</th>\n",
       "    </tr>\n",
       "  </thead>\n",
       "  <tbody>\n",
       "    <tr>\n",
       "      <th>0</th>\n",
       "      <td>BASELINE</td>\n",
       "      <td>1177.101647</td>\n",
       "    </tr>\n",
       "    <tr>\n",
       "      <th>1</th>\n",
       "      <td>Open</td>\n",
       "      <td>1738.730532</td>\n",
       "    </tr>\n",
       "    <tr>\n",
       "      <th>2</th>\n",
       "      <td>High</td>\n",
       "      <td>2483.536871</td>\n",
       "    </tr>\n",
       "    <tr>\n",
       "      <th>3</th>\n",
       "      <td>Low</td>\n",
       "      <td>5988.420022</td>\n",
       "    </tr>\n",
       "  </tbody>\n",
       "</table>\n",
       "</div>"
      ],
      "text/plain": [
       "    feature          mae\n",
       "0  BASELINE  1177.101647\n",
       "1      Open  1738.730532\n",
       "2      High  2483.536871\n",
       "3       Low  5988.420022"
      ]
     },
     "execution_count": 15,
     "metadata": {},
     "output_type": "execute_result"
    }
   ],
   "source": [
    "# Compute lstm feature importance\n",
    "df_fi = train_lstm.feature_importance_df()\n",
    "df_fi"
   ]
  },
  {
   "cell_type": "code",
   "execution_count": 16,
   "metadata": {},
   "outputs": [
    {
     "data": {
      "image/png": "[encoded data removed]",
      "text/plain": [
       "<Figure size 720x1440 with 1 Axes>"
      ]
     },
     "metadata": {
      "needs_background": "light"
     },
     "output_type": "display_data"
    }
   ],
   "source": [
    "# Plot lstm feature importance\n",
    "train_lstm.feature_importance_plot()"
   ]
  }
 ],
 "metadata": {
  "kernelspec": {
   "display_name": "base",
   "language": "python",
   "name": "python3"
  },
  "language_info": {
   "codemirror_mode": {
    "name": "ipython",
    "version": 3
   },
   "file_extension": ".py",
   "mimetype": "text/x-python",
   "name": "python",
   "nbconvert_exporter": "python",
   "pygments_lexer": "ipython3",
   "version": "3.8.8"
  }
 },
 "nbformat": 4,
 "nbformat_minor": 2
}
